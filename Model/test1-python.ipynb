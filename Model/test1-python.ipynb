{
 "cells": [
  {
   "cell_type": "code",
   "execution_count": 5,
   "id": "7caf3ff7-ab1f-4128-8d5a-0eb17d4cd15c",
   "metadata": {},
   "outputs": [
    {
     "name": "stdout",
     "output_type": "stream",
     "text": [
      "CUDA_DEVICE_ORDER: PCI_BUS_ID\n",
      "CUDA_VISIBLE_DEVICES: 5\n"
     ]
    }
   ],
   "source": [
    "import os\n",
    "\n",
    "# CUDA 환경 변수 설정\n",
    "os.environ['CUDA_DEVICE_ORDER'] = 'PCI_BUS_ID'\n",
    "os.environ['CUDA_VISIBLE_DEVICES'] = '5'\n",
    "\n",
    "# 환경 변수가 올바르게 설정되었는지 확인\n",
    "print(\"CUDA_DEVICE_ORDER:\", os.environ['CUDA_DEVICE_ORDER'])\n",
    "print(\"CUDA_VISIBLE_DEVICES:\", os.environ['CUDA_VISIBLE_DEVICES'])\n"
   ]
  },
  {
   "cell_type": "code",
   "execution_count": 9,
   "id": "bd7517bd-41ab-4c06-8261-34d982330b6e",
   "metadata": {},
   "outputs": [
    {
     "name": "stdout",
     "output_type": "stream",
     "text": [
      "Epoch 1, Loss: 2.328396797180176\n",
      "Epoch 2, Loss: 2.2985475063323975\n",
      "Epoch 3, Loss: 2.27734375\n",
      "Epoch 4, Loss: 2.259937047958374\n",
      "Epoch 5, Loss: 2.2429463863372803\n",
      "Epoch 6, Loss: 2.2260639667510986\n",
      "Epoch 7, Loss: 2.2099380493164062\n",
      "Epoch 8, Loss: 2.194953441619873\n",
      "Epoch 9, Loss: 2.1810970306396484\n",
      "Epoch 10, Loss: 2.1680431365966797\n",
      "tensor([[ 0.1423, -0.2815,  0.0374, -0.4290,  0.4429,  0.0083, -0.3355, -0.0238,\n",
      "          0.0163, -0.4185],\n",
      "        [-0.0058, -0.1347, -0.5305,  0.2243,  0.2411, -0.0965, -0.1810, -0.1921,\n",
      "         -0.2580,  0.0395],\n",
      "        [ 0.0966, -0.1102, -0.2524,  0.3128,  0.0270,  0.5130, -0.2325,  0.4672,\n",
      "         -0.0454, -0.2259],\n",
      "        [-0.0533, -0.0982,  0.2578, -0.1277, -0.1489, -0.5505, -0.5916, -0.1866,\n",
      "          0.5024,  0.0567],\n",
      "        [-0.2724,  0.0835,  0.0226, -0.0340,  0.0372, -0.2027, -0.1497, -0.2033,\n",
      "         -0.3692, -0.1221],\n",
      "        [-0.2431, -0.3960, -0.6209, -0.0595, -0.8505, -0.1848,  0.0186, -0.0601,\n",
      "          0.6434,  0.3206],\n",
      "        [ 0.1074,  0.0058, -0.4667, -0.3535,  0.4321,  0.0976, -0.5446,  0.6192,\n",
      "          0.0156, -0.1420],\n",
      "        [-0.1013,  0.1072,  0.1171, -0.1004, -0.3269, -0.6076, -0.3517, -0.0839,\n",
      "         -0.2555,  0.5961],\n",
      "        [ 0.3586, -0.3636, -0.0808, -0.0487, -0.2873, -0.3604,  0.1473,  0.0283,\n",
      "          0.4354,  0.3241],\n",
      "        [ 0.0118,  0.1581, -0.0947,  0.2234, -0.1012,  0.0615, -0.6207, -0.0499,\n",
      "         -0.0612, -0.2746]], device='cuda:0')\n"
     ]
    }
   ],
   "source": [
    "import os\n",
    "import torch\n",
    "import torch.nn as nn\n",
    "import torch.optim as optim\n",
    "\n",
    "# CUDA 환경 변수 설정\n",
    "os.environ['CUDA_DEVICE_ORDER'] = 'PCI_BUS_ID'\n",
    "os.environ['CUDA_VISIBLE_DEVICES'] = '5'\n",
    "\n",
    "# 간단한 PyTorch 모델 정의\n",
    "class SimpleNN(nn.Module):\n",
    "    def __init__(self):\n",
    "        super(SimpleNN, self).__init__()\n",
    "        self.fc1 = nn.Linear(784, 512)\n",
    "        self.fc2 = nn.Linear(512, 10)\n",
    "\n",
    "    def forward(self, x):\n",
    "        x = torch.relu(self.fc1(x))\n",
    "        x = self.fc2(x)\n",
    "        return x\n",
    "\n",
    "# 모델 초기화\n",
    "device = torch.device('cuda' if torch.cuda.is_available() else 'cpu')\n",
    "model = SimpleNN().to(device)\n",
    "criterion = nn.CrossEntropyLoss()\n",
    "optimizer = optim.Adam(model.parameters(), lr=0.001)\n",
    "\n",
    "# 가짜 데이터 생성\n",
    "x_train = torch.randn(60000, 784).to(device)\n",
    "y_train = torch.randint(0, 10, (60000,)).to(device)\n",
    "\n",
    "# 모델 학습\n",
    "for epoch in range(10):\n",
    "    optimizer.zero_grad()\n",
    "    outputs = model(x_train)\n",
    "    loss = criterion(outputs, y_train)\n",
    "    loss.backward()\n",
    "    optimizer.step()\n",
    "    print(f\"Epoch {epoch+1}, Loss: {loss.item()}\")\n",
    "\n",
    "# 예측 수행\n",
    "with torch.no_grad():\n",
    "    predictions = model(x_train[:10])\n",
    "    print(predictions)\n"
   ]
  },
  {
   "cell_type": "code",
   "execution_count": null,
   "id": "3f4e2421-db70-4d1e-8d15-bb20cc11570e",
   "metadata": {},
   "outputs": [],
   "source": []
  }
 ],
 "metadata": {
  "kernelspec": {
   "display_name": "Python 3 (ipykernel)",
   "language": "python",
   "name": "python3"
  },
  "language_info": {
   "codemirror_mode": {
    "name": "ipython",
    "version": 3
   },
   "file_extension": ".py",
   "mimetype": "text/x-python",
   "name": "python",
   "nbconvert_exporter": "python",
   "pygments_lexer": "ipython3",
   "version": "3.10.10"
  }
 },
 "nbformat": 4,
 "nbformat_minor": 5
}
