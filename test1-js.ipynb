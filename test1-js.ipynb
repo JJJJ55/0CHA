{
 "cells": [
  {
   "cell_type": "code",
   "execution_count": 1,
   "id": "8bbb28dc-e3e9-454c-9ab0-35aa0c29e727",
   "metadata": {},
   "outputs": [
    {
     "name": "stdout",
     "output_type": "stream",
     "text": [
      "CUDA_DEVICE_ORDER: PCI_BUS_ID\n",
      "CUDA_VISIBLE_DEVICES: 5\n"
     ]
    }
   ],
   "source": [
    "// 환경 변수 설정\n",
    "process.env.CUDA_DEVICE_ORDER = 'PCI_BUS_ID';\n",
    "process.env.CUDA_VISIBLE_DEVICES = '5';\n",
    "\n",
    "// 환경 변수가 올바르게 설정되었는지 확인\n",
    "console.log(\"CUDA_DEVICE_ORDER:\", process.env.CUDA_DEVICE_ORDER);\n",
    "console.log(\"CUDA_VISIBLE_DEVICES:\", process.env.CUDA_VISIBLE_DEVICES);"
   ]
  },
  {
   "cell_type": "code",
   "execution_count": null,
   "id": "a2ef854e-2700-4514-8290-ce8bd7feaca0",
   "metadata": {},
   "outputs": [],
   "source": []
  }
 ],
 "metadata": {
  "kernelspec": {
   "display_name": "JavaScript (Node.js)",
   "language": "javascript",
   "name": "javascript"
  },
  "language_info": {
   "file_extension": ".js",
   "mimetype": "application/javascript",
   "name": "javascript",
   "version": "20.16.0"
  }
 },
 "nbformat": 4,
 "nbformat_minor": 5
}
